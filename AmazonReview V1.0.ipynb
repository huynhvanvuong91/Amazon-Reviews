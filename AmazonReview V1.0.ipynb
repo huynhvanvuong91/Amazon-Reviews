{
 "cells": [
  {
   "cell_type": "code",
   "execution_count": 1,
   "metadata": {},
   "outputs": [],
   "source": [
    "import numpy as np\n",
    "import pandas as pd\n",
    "import matplotlib.pyplot as plt\n",
    "%matplotlib inline\n",
    "import seaborn as sns\n",
    "sns.set_style(\"whitegrid\")\n",
    "sns.set_context(\"poster\")\n",
    "import os\n",
    "import gzip"
   ]
  },
  {
   "cell_type": "code",
   "execution_count": 2,
   "metadata": {},
   "outputs": [],
   "source": [
    "df=pd.read_csv(\"C:\\\\reviews_Movies_and_TV_5.csv\")"
   ]
  },
  {
   "cell_type": "markdown",
   "metadata": {},
   "source": [
    "# 1.Phân tích dữ liệu"
   ]
  },
  {
   "cell_type": "code",
   "execution_count": 3,
   "metadata": {},
   "outputs": [
    {
     "data": {
      "text/html": [
       "<div>\n",
       "<style scoped>\n",
       "    .dataframe tbody tr th:only-of-type {\n",
       "        vertical-align: middle;\n",
       "    }\n",
       "\n",
       "    .dataframe tbody tr th {\n",
       "        vertical-align: top;\n",
       "    }\n",
       "\n",
       "    .dataframe thead th {\n",
       "        text-align: right;\n",
       "    }\n",
       "</style>\n",
       "<table border=\"1\" class=\"dataframe\">\n",
       "  <thead>\n",
       "    <tr style=\"text-align: right;\">\n",
       "      <th></th>\n",
       "      <th>Unnamed: 0</th>\n",
       "      <th>reviewerID</th>\n",
       "      <th>asin</th>\n",
       "      <th>reviewerName</th>\n",
       "      <th>helpful</th>\n",
       "      <th>reviewText</th>\n",
       "      <th>overall</th>\n",
       "      <th>summary</th>\n",
       "      <th>unixReviewTime</th>\n",
       "      <th>reviewTime</th>\n",
       "    </tr>\n",
       "  </thead>\n",
       "  <tbody>\n",
       "    <tr>\n",
       "      <th>0</th>\n",
       "      <td>0</td>\n",
       "      <td>ADZPIG9QOCDG5</td>\n",
       "      <td>0005019281</td>\n",
       "      <td>Alice L. Larson \"alice-loves-books\"</td>\n",
       "      <td>[0, 0]</td>\n",
       "      <td>This is a charming version of the classic Dick...</td>\n",
       "      <td>4.0</td>\n",
       "      <td>good version of a classic</td>\n",
       "      <td>1203984000</td>\n",
       "      <td>02 26, 2008</td>\n",
       "    </tr>\n",
       "    <tr>\n",
       "      <th>1</th>\n",
       "      <td>1</td>\n",
       "      <td>A35947ZP82G7JH</td>\n",
       "      <td>0005019281</td>\n",
       "      <td>Amarah Strack</td>\n",
       "      <td>[0, 0]</td>\n",
       "      <td>It was good but not as emotionally moving as t...</td>\n",
       "      <td>3.0</td>\n",
       "      <td>Good but not as moving</td>\n",
       "      <td>1388361600</td>\n",
       "      <td>12 30, 2013</td>\n",
       "    </tr>\n",
       "    <tr>\n",
       "      <th>2</th>\n",
       "      <td>2</td>\n",
       "      <td>A3UORV8A9D5L2E</td>\n",
       "      <td>0005019281</td>\n",
       "      <td>Amazon Customer</td>\n",
       "      <td>[0, 0]</td>\n",
       "      <td>Don't get me wrong, Winkler is a wonderful cha...</td>\n",
       "      <td>3.0</td>\n",
       "      <td>Winkler's Performance was ok at best!</td>\n",
       "      <td>1388361600</td>\n",
       "      <td>12 30, 2013</td>\n",
       "    </tr>\n",
       "    <tr>\n",
       "      <th>3</th>\n",
       "      <td>3</td>\n",
       "      <td>A1VKW06X1O2X7V</td>\n",
       "      <td>0005019281</td>\n",
       "      <td>Amazon Customer \"Softmill\"</td>\n",
       "      <td>[0, 0]</td>\n",
       "      <td>Henry Winkler is very good in this twist on th...</td>\n",
       "      <td>5.0</td>\n",
       "      <td>It's an enjoyable twist on the classic story</td>\n",
       "      <td>1202860800</td>\n",
       "      <td>02 13, 2008</td>\n",
       "    </tr>\n",
       "    <tr>\n",
       "      <th>4</th>\n",
       "      <td>4</td>\n",
       "      <td>A3R27T4HADWFFJ</td>\n",
       "      <td>0005019281</td>\n",
       "      <td>BABE</td>\n",
       "      <td>[0, 0]</td>\n",
       "      <td>This is one of the best Scrooge movies out.  H...</td>\n",
       "      <td>4.0</td>\n",
       "      <td>Best Scrooge yet</td>\n",
       "      <td>1387670400</td>\n",
       "      <td>12 22, 2013</td>\n",
       "    </tr>\n",
       "  </tbody>\n",
       "</table>\n",
       "</div>"
      ],
      "text/plain": [
       "   Unnamed: 0      reviewerID        asin  \\\n",
       "0           0   ADZPIG9QOCDG5  0005019281   \n",
       "1           1  A35947ZP82G7JH  0005019281   \n",
       "2           2  A3UORV8A9D5L2E  0005019281   \n",
       "3           3  A1VKW06X1O2X7V  0005019281   \n",
       "4           4  A3R27T4HADWFFJ  0005019281   \n",
       "\n",
       "                          reviewerName helpful  \\\n",
       "0  Alice L. Larson \"alice-loves-books\"  [0, 0]   \n",
       "1                        Amarah Strack  [0, 0]   \n",
       "2                      Amazon Customer  [0, 0]   \n",
       "3           Amazon Customer \"Softmill\"  [0, 0]   \n",
       "4                                 BABE  [0, 0]   \n",
       "\n",
       "                                          reviewText  overall  \\\n",
       "0  This is a charming version of the classic Dick...      4.0   \n",
       "1  It was good but not as emotionally moving as t...      3.0   \n",
       "2  Don't get me wrong, Winkler is a wonderful cha...      3.0   \n",
       "3  Henry Winkler is very good in this twist on th...      5.0   \n",
       "4  This is one of the best Scrooge movies out.  H...      4.0   \n",
       "\n",
       "                                        summary  unixReviewTime   reviewTime  \n",
       "0                     good version of a classic      1203984000  02 26, 2008  \n",
       "1                        Good but not as moving      1388361600  12 30, 2013  \n",
       "2         Winkler's Performance was ok at best!      1388361600  12 30, 2013  \n",
       "3  It's an enjoyable twist on the classic story      1202860800  02 13, 2008  \n",
       "4                              Best Scrooge yet      1387670400  12 22, 2013  "
      ]
     },
     "execution_count": 3,
     "metadata": {},
     "output_type": "execute_result"
    }
   ],
   "source": [
    "df.head()"
   ]
  },
  {
   "cell_type": "code",
   "execution_count": 4,
   "metadata": {},
   "outputs": [
    {
     "name": "stdout",
     "output_type": "stream",
     "text": [
      "<class 'pandas.core.frame.DataFrame'>\n",
      "RangeIndex: 1697533 entries, 0 to 1697532\n",
      "Data columns (total 10 columns):\n",
      "Unnamed: 0        int64\n",
      "reviewerID        object\n",
      "asin              object\n",
      "reviewerName      object\n",
      "helpful           object\n",
      "reviewText        object\n",
      "overall           float64\n",
      "summary           object\n",
      "unixReviewTime    int64\n",
      "reviewTime        object\n",
      "dtypes: float64(1), int64(2), object(7)\n",
      "memory usage: 129.5+ MB\n"
     ]
    }
   ],
   "source": [
    "df.info()"
   ]
  },
  {
   "cell_type": "code",
   "execution_count": 5,
   "metadata": {},
   "outputs": [
    {
     "data": {
      "text/plain": [
       "Unnamed: 0           0\n",
       "reviewerID           0\n",
       "asin                 0\n",
       "reviewerName      6166\n",
       "helpful              0\n",
       "reviewText          62\n",
       "overall              0\n",
       "summary             25\n",
       "unixReviewTime       0\n",
       "reviewTime           0\n",
       "dtype: int64"
      ]
     },
     "execution_count": 5,
     "metadata": {},
     "output_type": "execute_result"
    }
   ],
   "source": [
    "pd.isnull(df).sum()"
   ]
  },
  {
   "cell_type": "code",
   "execution_count": 72,
   "metadata": {},
   "outputs": [
    {
     "data": {
      "text/html": [
       "<div>\n",
       "<style scoped>\n",
       "    .dataframe tbody tr th:only-of-type {\n",
       "        vertical-align: middle;\n",
       "    }\n",
       "\n",
       "    .dataframe tbody tr th {\n",
       "        vertical-align: top;\n",
       "    }\n",
       "\n",
       "    .dataframe thead th {\n",
       "        text-align: right;\n",
       "    }\n",
       "</style>\n",
       "<table border=\"1\" class=\"dataframe\">\n",
       "  <thead>\n",
       "    <tr style=\"text-align: right;\">\n",
       "      <th></th>\n",
       "      <th>Unnamed: 0</th>\n",
       "      <th>overall</th>\n",
       "      <th>unixReviewTime</th>\n",
       "    </tr>\n",
       "  </thead>\n",
       "  <tbody>\n",
       "    <tr>\n",
       "      <th>count</th>\n",
       "      <td>1.697533e+06</td>\n",
       "      <td>1.697533e+06</td>\n",
       "      <td>1.697533e+06</td>\n",
       "    </tr>\n",
       "    <tr>\n",
       "      <th>mean</th>\n",
       "      <td>8.487660e+05</td>\n",
       "      <td>4.110648e+00</td>\n",
       "      <td>1.262422e+09</td>\n",
       "    </tr>\n",
       "    <tr>\n",
       "      <th>std</th>\n",
       "      <td>4.900357e+05</td>\n",
       "      <td>1.197615e+00</td>\n",
       "      <td>1.289277e+08</td>\n",
       "    </tr>\n",
       "    <tr>\n",
       "      <th>min</th>\n",
       "      <td>0.000000e+00</td>\n",
       "      <td>1.000000e+00</td>\n",
       "      <td>8.793792e+08</td>\n",
       "    </tr>\n",
       "    <tr>\n",
       "      <th>25%</th>\n",
       "      <td>4.243830e+05</td>\n",
       "      <td>4.000000e+00</td>\n",
       "      <td>1.164413e+09</td>\n",
       "    </tr>\n",
       "    <tr>\n",
       "      <th>50%</th>\n",
       "      <td>8.487660e+05</td>\n",
       "      <td>5.000000e+00</td>\n",
       "      <td>1.307491e+09</td>\n",
       "    </tr>\n",
       "    <tr>\n",
       "      <th>75%</th>\n",
       "      <td>1.273149e+06</td>\n",
       "      <td>5.000000e+00</td>\n",
       "      <td>1.373242e+09</td>\n",
       "    </tr>\n",
       "    <tr>\n",
       "      <th>max</th>\n",
       "      <td>1.697532e+06</td>\n",
       "      <td>5.000000e+00</td>\n",
       "      <td>1.406074e+09</td>\n",
       "    </tr>\n",
       "  </tbody>\n",
       "</table>\n",
       "</div>"
      ],
      "text/plain": [
       "         Unnamed: 0       overall  unixReviewTime\n",
       "count  1.697533e+06  1.697533e+06    1.697533e+06\n",
       "mean   8.487660e+05  4.110648e+00    1.262422e+09\n",
       "std    4.900357e+05  1.197615e+00    1.289277e+08\n",
       "min    0.000000e+00  1.000000e+00    8.793792e+08\n",
       "25%    4.243830e+05  4.000000e+00    1.164413e+09\n",
       "50%    8.487660e+05  5.000000e+00    1.307491e+09\n",
       "75%    1.273149e+06  5.000000e+00    1.373242e+09\n",
       "max    1.697532e+06  5.000000e+00    1.406074e+09"
      ]
     },
     "execution_count": 72,
     "metadata": {},
     "output_type": "execute_result"
    }
   ],
   "source": [
    "df.describe()"
   ]
  },
  {
   "cell_type": "code",
   "execution_count": 6,
   "metadata": {},
   "outputs": [],
   "source": [
    "data=data = df[['reviewText','summary','overall']]"
   ]
  },
  {
   "cell_type": "code",
   "execution_count": 7,
   "metadata": {},
   "outputs": [
    {
     "data": {
      "text/plain": [
       "Unnamed: 0           0\n",
       "reviewerID           0\n",
       "asin                 0\n",
       "reviewerName      6166\n",
       "helpful              0\n",
       "reviewText          62\n",
       "overall              0\n",
       "summary             25\n",
       "unixReviewTime       0\n",
       "reviewTime           0\n",
       "dtype: int64"
      ]
     },
     "execution_count": 7,
     "metadata": {},
     "output_type": "execute_result"
    }
   ],
   "source": [
    "pd.isnull(df).sum()"
   ]
  },
  {
   "cell_type": "code",
   "execution_count": 8,
   "metadata": {},
   "outputs": [
    {
     "data": {
      "text/plain": [
       "(1697533, 3)"
      ]
     },
     "execution_count": 8,
     "metadata": {},
     "output_type": "execute_result"
    }
   ],
   "source": [
    "data.shape"
   ]
  },
  {
   "cell_type": "code",
   "execution_count": 9,
   "metadata": {},
   "outputs": [],
   "source": [
    "data=data[data.reviewText.notnull()]"
   ]
  },
  {
   "cell_type": "code",
   "execution_count": 10,
   "metadata": {},
   "outputs": [],
   "source": [
    "data=data[data.summary.notnull()]"
   ]
  },
  {
   "cell_type": "code",
   "execution_count": 11,
   "metadata": {},
   "outputs": [
    {
     "data": {
      "text/plain": [
       "reviewText    0\n",
       "summary       0\n",
       "overall       0\n",
       "dtype: int64"
      ]
     },
     "execution_count": 11,
     "metadata": {},
     "output_type": "execute_result"
    }
   ],
   "source": [
    "pd.isnull(data).sum()"
   ]
  },
  {
   "cell_type": "code",
   "execution_count": 12,
   "metadata": {},
   "outputs": [
    {
     "name": "stdout",
     "output_type": "stream",
     "text": [
      "<class 'pandas.core.frame.DataFrame'>\n",
      "Int64Index: 1697446 entries, 0 to 1697532\n",
      "Data columns (total 3 columns):\n",
      "reviewText    object\n",
      "summary       object\n",
      "overall       float64\n",
      "dtypes: float64(1), object(2)\n",
      "memory usage: 51.8+ MB\n"
     ]
    }
   ],
   "source": [
    "data.info()"
   ]
  },
  {
   "cell_type": "code",
   "execution_count": 13,
   "metadata": {},
   "outputs": [],
   "source": [
    "data[['overall']] = data[['overall']].astype(str)"
   ]
  },
  {
   "cell_type": "code",
   "execution_count": 14,
   "metadata": {},
   "outputs": [
    {
     "name": "stdout",
     "output_type": "stream",
     "text": [
      "<class 'pandas.core.frame.DataFrame'>\n",
      "Int64Index: 1697446 entries, 0 to 1697532\n",
      "Data columns (total 3 columns):\n",
      "reviewText    object\n",
      "summary       object\n",
      "overall       object\n",
      "dtypes: object(3)\n",
      "memory usage: 51.8+ MB\n"
     ]
    }
   ],
   "source": [
    "data.info()"
   ]
  },
  {
   "cell_type": "code",
   "execution_count": 15,
   "metadata": {},
   "outputs": [],
   "source": [
    "def PhanLoai(pl):\n",
    "    kq = \"\";\n",
    "    if pl== '1.0'or pl=='2.0':\n",
    "        kq = \"negative\"\n",
    "    elif pl=='3.0':   \n",
    "        kq = \"neural\"\n",
    "    else:\n",
    "        kq = \"positive\"\n",
    "    return kq"
   ]
  },
  {
   "cell_type": "code",
   "execution_count": 16,
   "metadata": {},
   "outputs": [],
   "source": [
    "for i in range(len(data)):\n",
    "    data.iat[i,2]=PhanLoai(data.iat[i,2])"
   ]
  },
  {
   "cell_type": "code",
   "execution_count": 17,
   "metadata": {},
   "outputs": [
    {
     "data": {
      "text/html": [
       "<div>\n",
       "<style scoped>\n",
       "    .dataframe tbody tr th:only-of-type {\n",
       "        vertical-align: middle;\n",
       "    }\n",
       "\n",
       "    .dataframe tbody tr th {\n",
       "        vertical-align: top;\n",
       "    }\n",
       "\n",
       "    .dataframe thead th {\n",
       "        text-align: right;\n",
       "    }\n",
       "</style>\n",
       "<table border=\"1\" class=\"dataframe\">\n",
       "  <thead>\n",
       "    <tr style=\"text-align: right;\">\n",
       "      <th></th>\n",
       "      <th>reviewText</th>\n",
       "      <th>summary</th>\n",
       "      <th>overall</th>\n",
       "    </tr>\n",
       "  </thead>\n",
       "  <tbody>\n",
       "    <tr>\n",
       "      <th>0</th>\n",
       "      <td>This is a charming version of the classic Dick...</td>\n",
       "      <td>good version of a classic</td>\n",
       "      <td>positive</td>\n",
       "    </tr>\n",
       "    <tr>\n",
       "      <th>1</th>\n",
       "      <td>It was good but not as emotionally moving as t...</td>\n",
       "      <td>Good but not as moving</td>\n",
       "      <td>neural</td>\n",
       "    </tr>\n",
       "    <tr>\n",
       "      <th>2</th>\n",
       "      <td>Don't get me wrong, Winkler is a wonderful cha...</td>\n",
       "      <td>Winkler's Performance was ok at best!</td>\n",
       "      <td>neural</td>\n",
       "    </tr>\n",
       "    <tr>\n",
       "      <th>3</th>\n",
       "      <td>Henry Winkler is very good in this twist on th...</td>\n",
       "      <td>It's an enjoyable twist on the classic story</td>\n",
       "      <td>positive</td>\n",
       "    </tr>\n",
       "    <tr>\n",
       "      <th>4</th>\n",
       "      <td>This is one of the best Scrooge movies out.  H...</td>\n",
       "      <td>Best Scrooge yet</td>\n",
       "      <td>positive</td>\n",
       "    </tr>\n",
       "  </tbody>\n",
       "</table>\n",
       "</div>"
      ],
      "text/plain": [
       "                                          reviewText  \\\n",
       "0  This is a charming version of the classic Dick...   \n",
       "1  It was good but not as emotionally moving as t...   \n",
       "2  Don't get me wrong, Winkler is a wonderful cha...   \n",
       "3  Henry Winkler is very good in this twist on th...   \n",
       "4  This is one of the best Scrooge movies out.  H...   \n",
       "\n",
       "                                        summary   overall  \n",
       "0                     good version of a classic  positive  \n",
       "1                        Good but not as moving    neural  \n",
       "2         Winkler's Performance was ok at best!    neural  \n",
       "3  It's an enjoyable twist on the classic story  positive  \n",
       "4                              Best Scrooge yet  positive  "
      ]
     },
     "execution_count": 17,
     "metadata": {},
     "output_type": "execute_result"
    }
   ],
   "source": [
    "data.head(5)"
   ]
  },
  {
   "cell_type": "code",
   "execution_count": 70,
   "metadata": {},
   "outputs": [
    {
     "data": {
      "image/png": "[encoded data removed]",
      "text/plain": [
       "<matplotlib.figure.Figure at 0x18f46702b70>"
      ]
     },
     "metadata": {},
     "output_type": "display_data"
    }
   ],
   "source": [
    " # Biểu đồ thể hiện số lượng positive, neural, negative ở cột overall\n",
    "data.groupby('overall').count().plot.bar(rot=0)\n",
    "plt.show()"
   ]
  },
  {
   "cell_type": "markdown",
   "metadata": {},
   "source": [
    "Positive cao hơn rất nhiều so với neural và negative\n",
    "    Positive chiến 76%\n",
    "    neural chiếm 12%\n",
    "    negative chiếm 12%"
   ]
  },
  {
   "cell_type": "code",
   "execution_count": 71,
   "metadata": {},
   "outputs": [
    {
     "data": {
      "text/plain": [
       "positive    1289537\n",
       "negative     206616\n",
       "neural       201293\n",
       "Name: overall, dtype: int64"
      ]
     },
     "execution_count": 71,
     "metadata": {},
     "output_type": "execute_result"
    }
   ],
   "source": [
    "data.overall.value_counts()"
   ]
  },
  {
   "cell_type": "code",
   "execution_count": 18,
   "metadata": {},
   "outputs": [],
   "source": [
    "#Chia tập dữ liệu với các loại 'negative', 'neural', positive' để kiểm tra sự chính xác\n",
    "negative_test = data[data['overall'] == \"negative\"]\n",
    "neural_test = data[data['overall'] == \"neural\"]\n",
    "positive_test = data[data['overall'] == \"positive\"]"
   ]
  },
  {
   "cell_type": "markdown",
   "metadata": {},
   "source": [
    "# 2. Phân tích dữ liệu giữa reviewText với overall"
   ]
  },
  {
   "cell_type": "markdown",
   "metadata": {},
   "source": [
    "## a. Training và test với Naive bayes"
   ]
  },
  {
   "cell_type": "code",
   "execution_count": 19,
   "metadata": {},
   "outputs": [],
   "source": [
    "from sklearn.feature_extraction.text import CountVectorizer"
   ]
  },
  {
   "cell_type": "code",
   "execution_count": 20,
   "metadata": {},
   "outputs": [],
   "source": [
    "from sklearn.model_selection import train_test_split\n",
    "from sklearn.naive_bayes import MultinomialNB\n",
    "import sklearn"
   ]
  },
  {
   "cell_type": "code",
   "execution_count": 21,
   "metadata": {},
   "outputs": [],
   "source": [
    "X_trainM, X_testM, y_trainM, y_testM = train_test_split(data.reviewText, data.overall, test_size=0.2, random_state=100) "
   ]
  },
  {
   "cell_type": "code",
   "execution_count": 22,
   "metadata": {},
   "outputs": [],
   "source": [
    "count_vectM = CountVectorizer(stop_words='english')\n",
    "X_train_counts_M = count_vectM.fit_transform(X_trainM)"
   ]
  },
  {
   "cell_type": "code",
   "execution_count": 23,
   "metadata": {},
   "outputs": [
    {
     "name": "stdout",
     "output_type": "stream",
     "text": [
      "Độ chính xác của tập test \"reviewText\": 79.24%\n"
     ]
    }
   ],
   "source": [
    "clfM = MultinomialNB().fit(X_train_counts_M, y_trainM)\n",
    "X_test_counts_M = count_vectM.transform(X_testM)\n",
    "y_predTestM = clfM.predict(X_test_counts_M)\n",
    "print('Độ chính xác của tập test \"reviewText\": {:.2f}%'.format(sklearn.metrics.accuracy_score(y_testM, y_predTestM)*100))"
   ]
  },
  {
   "cell_type": "code",
   "execution_count": 24,
   "metadata": {},
   "outputs": [
    {
     "name": "stdout",
     "output_type": "stream",
     "text": [
      "Độ chính xác của tập test_negative \"reviewText\": 68.92%\n",
      "Độ chính xác của tập test_neural \"reviewText\": 29.49%\n",
      "Độ chính xác của tập test_positive \"reviewText\": 90.31%\n"
     ]
    }
   ],
   "source": [
    "#Kiểm tra độ chính xác từng lớp\n",
    "X_test_negative = count_vectM.transform(negative_test.reviewText)\n",
    "X_test_neural = count_vectM.transform(neural_test.reviewText)\n",
    "X_test_positive = count_vectM.transform(positive_test.reviewText)\n",
    "print('Độ chính xác của tập test_negative \"reviewText\": {:.2f}%'.format(sklearn.metrics.accuracy_score(negative_test.overall, clfM.predict(X_test_negative))*100))\n",
    "print('Độ chính xác của tập test_neural \"reviewText\": {:.2f}%'.format(sklearn.metrics.accuracy_score(neural_test.overall, clfM.predict(X_test_neural))*100))\n",
    "print('Độ chính xác của tập test_positive \"reviewText\": {:.2f}%'.format(sklearn.metrics.accuracy_score(positive_test.overall, clfM.predict(X_test_positive))*100))"
   ]
  },
  {
   "cell_type": "code",
   "execution_count": 25,
   "metadata": {},
   "outputs": [
    {
     "name": "stdout",
     "output_type": "stream",
     "text": [
      "Độ chính xác của tập test \"summary\": 76.75% alpha:  0.1\n",
      "Độ chính xác của tập test \"summary\": 77.66% alpha:  0.4\n",
      "Độ chính xác của tập test \"summary\": 78.50% alpha:  0.7\n",
      "Độ chính xác của tập test \"summary\": 79.24% alpha:  1.0\n",
      "Độ chính xác của tập test \"summary\": 79.83% alpha:  1.3\n",
      "Độ chính xác của tập test \"summary\": 80.26% alpha:  1.6\n",
      "Độ chính xác của tập test \"summary\": 80.55% alpha:  1.9\n",
      "Độ chính xác của tập test \"summary\": 80.76% alpha:  2.2\n",
      "Độ chính xác của tập test \"summary\": 80.85% alpha:  2.5\n",
      "Độ chính xác của tập test \"summary\": 80.87% alpha:  2.8\n",
      "Độ chính xác của tập test \"summary\": 80.81% alpha:  3.1\n",
      "Độ chính xác của tập test \"summary\": 80.72% alpha:  3.4\n",
      "Độ chính xác của tập test \"summary\": 80.58% alpha:  3.7\n"
     ]
    }
   ],
   "source": [
    "for i in range(1,40,3):\n",
    "    clfM1 = MultinomialNB(alpha=i/10).fit(X_train_counts_M, y_trainM)\n",
    "    X_test_counts_M1 = count_vectM.transform(X_testM)\n",
    "    y_predTestM1 = clfM1.predict(X_test_counts_M1)\n",
    "    print('Độ chính xác của tập test \"summary\": {:.2f}%'.format(sklearn.metrics.accuracy_score(y_testM, y_predTestM1)*100),\"alpha: \", i/10)"
   ]
  },
  {
   "cell_type": "markdown",
   "metadata": {},
   "source": [
    "Với alpha bằng 2.8 sẽ cho kết quả tốt nhất"
   ]
  },
  {
   "cell_type": "markdown",
   "metadata": {},
   "source": [
    "## b. Training và test sử dụng tfidf và Naive bayes"
   ]
  },
  {
   "cell_type": "markdown",
   "metadata": {},
   "source": [
    "### - Mã hóa dữ liệu dạng Text sang Vector (Text to vector)"
   ]
  },
  {
   "cell_type": "code",
   "execution_count": 26,
   "metadata": {},
   "outputs": [],
   "source": [
    "from sklearn.feature_extraction.text import CountVectorizer"
   ]
  },
  {
   "cell_type": "code",
   "execution_count": 27,
   "metadata": {},
   "outputs": [],
   "source": [
    "count_vect = CountVectorizer()"
   ]
  },
  {
   "cell_type": "code",
   "execution_count": 28,
   "metadata": {},
   "outputs": [],
   "source": [
    "X_train_counts = count_vect.fit_transform(data.reviewText)"
   ]
  },
  {
   "cell_type": "markdown",
   "metadata": {},
   "source": [
    "### - Chuyển Vector sang tf-idf"
   ]
  },
  {
   "cell_type": "code",
   "execution_count": 29,
   "metadata": {},
   "outputs": [],
   "source": [
    "from sklearn.feature_extraction.text import TfidfTransformer"
   ]
  },
  {
   "cell_type": "code",
   "execution_count": 30,
   "metadata": {},
   "outputs": [
    {
     "data": {
      "text/plain": [
       "(1697446, 815655)"
      ]
     },
     "execution_count": 30,
     "metadata": {},
     "output_type": "execute_result"
    }
   ],
   "source": [
    "tfidf_transformer = TfidfTransformer()\n",
    "X_train_tfidf = tfidf_transformer.fit_transform(X_train_counts)\n",
    "X_train_tfidf.shape"
   ]
  },
  {
   "cell_type": "markdown",
   "metadata": {},
   "source": [
    "### - Training và test (reviewText và overall) với phân lớp Naive Bayes"
   ]
  },
  {
   "cell_type": "code",
   "execution_count": 31,
   "metadata": {},
   "outputs": [],
   "source": [
    "from sklearn.model_selection import train_test_split\n",
    "from sklearn.naive_bayes import MultinomialNB\n",
    "import sklearn"
   ]
  },
  {
   "cell_type": "code",
   "execution_count": 32,
   "metadata": {},
   "outputs": [],
   "source": [
    "x_train, x_test, y_train, y_test = train_test_split(X_train_tfidf, data.overall, test_size = 0.20, random_state = 100)"
   ]
  },
  {
   "cell_type": "code",
   "execution_count": 33,
   "metadata": {},
   "outputs": [],
   "source": [
    "clf = MultinomialNB(alpha=.01).fit(x_train, y_train)"
   ]
  },
  {
   "cell_type": "code",
   "execution_count": 34,
   "metadata": {},
   "outputs": [
    {
     "name": "stdout",
     "output_type": "stream",
     "text": [
      "Độ chính xác của tập train \"reviewText\": 81.92%\n"
     ]
    }
   ],
   "source": [
    "#Độ chính xác của tập Train\n",
    "y_predTrain = clf.predict(x_train)\n",
    "print('Độ chính xác của tập train \"reviewText\": {:.2f}%'.format(sklearn.metrics.accuracy_score(y_train, y_predTrain)*100))\n",
    "accreviewTextTrain=sklearn.metrics.accuracy_score(y_train, y_predTrain)*100"
   ]
  },
  {
   "cell_type": "code",
   "execution_count": 37,
   "metadata": {},
   "outputs": [
    {
     "name": "stdout",
     "output_type": "stream",
     "text": [
      "Độ chính xác của tập test \"reviewText\": 78.60%\n"
     ]
    }
   ],
   "source": [
    "#Độ chính xác của tập text\n",
    "y_predTest = clf.predict(x_test)\n",
    "print('Độ chính xác của tập test \"reviewText\": {:.2f}%'.format(sklearn.metrics.accuracy_score(y_test, y_predTest)*100))\n",
    "accreviewTextTest=sklearn.metrics.accuracy_score(y_test, y_predTest)*100"
   ]
  },
  {
   "cell_type": "code",
   "execution_count": 39,
   "metadata": {},
   "outputs": [
    {
     "name": "stdout",
     "output_type": "stream",
     "text": [
      "Độ chính xác của tập test \"reviewText\": 77.86% alpha:  0.1\n",
      "Độ chính xác của tập test \"reviewText\": 76.41% alpha:  0.4\n",
      "Độ chính xác của tập test \"reviewText\": 76.03% alpha:  0.7\n",
      "Độ chính xác của tập test \"reviewText\": 75.93% alpha:  1.0\n",
      "Độ chính xác của tập test \"reviewText\": 75.91% alpha:  1.3\n",
      "Độ chính xác của tập test \"reviewText\": 75.90% alpha:  1.6\n",
      "Độ chính xác của tập test \"reviewText\": 75.90% alpha:  1.9\n",
      "Độ chính xác của tập test \"reviewText\": 75.91% alpha:  2.2\n",
      "Độ chính xác của tập test \"reviewText\": 75.91% alpha:  2.5\n",
      "Độ chính xác của tập test \"reviewText\": 75.91% alpha:  2.8\n",
      "Độ chính xác của tập test \"reviewText\": 75.91% alpha:  3.1\n",
      "Độ chính xác của tập test \"reviewText\": 75.91% alpha:  3.4\n",
      "Độ chính xác của tập test \"reviewText\": 75.91% alpha:  3.7\n"
     ]
    }
   ],
   "source": [
    "for i in range(1,40,3):\n",
    "    clf_tfidf = MultinomialNB(alpha=i/10).fit(x_train, y_train)\n",
    "    y_predTest_tfidf = clf_tfidf.predict(x_test)\n",
    "    print('Độ chính xác của tập test \"reviewText\": {:.2f}%'.format(sklearn.metrics.accuracy_score(y_test, y_predTest_tfidf)*100),\"alpha: \", i/10)"
   ]
  },
  {
   "cell_type": "markdown",
   "metadata": {},
   "source": [
    "## c. tfidf và Naive bayes"
   ]
  },
  {
   "cell_type": "code",
   "execution_count": 41,
   "metadata": {},
   "outputs": [],
   "source": [
    "from sklearn.feature_extraction.text import TfidfVectorizer\n",
    "from sklearn.naive_bayes import MultinomialNB\n",
    "import sklearn"
   ]
  },
  {
   "cell_type": "code",
   "execution_count": 42,
   "metadata": {},
   "outputs": [],
   "source": [
    "vectorizerN = TfidfVectorizer(sublinear_tf=True, max_df=0.5,stop_words='english')"
   ]
  },
  {
   "cell_type": "code",
   "execution_count": 43,
   "metadata": {},
   "outputs": [],
   "source": [
    "x_trainN, x_testN, y_trainN, y_testN = train_test_split(data.reviewText, data.overall, test_size = 0.20, random_state = 100)"
   ]
  },
  {
   "cell_type": "code",
   "execution_count": 44,
   "metadata": {},
   "outputs": [],
   "source": [
    "X_trainN = vectorizerN.fit_transform(x_trainN)\n",
    "X_testN = vectorizerN.transform(x_testN)"
   ]
  },
  {
   "cell_type": "code",
   "execution_count": 45,
   "metadata": {},
   "outputs": [],
   "source": [
    "clfN = MultinomialNB(alpha=.01).fit(X_trainN, y_trainN)"
   ]
  },
  {
   "cell_type": "code",
   "execution_count": 46,
   "metadata": {},
   "outputs": [
    {
     "name": "stdout",
     "output_type": "stream",
     "text": [
      "Độ chính xác của tập train \"reviewText\": 82.86%\n"
     ]
    }
   ],
   "source": [
    "y_predTrainN = clfN.predict(X_trainN)\n",
    "print('Độ chính xác của tập train \"reviewText\": {:.2f}%'.format(sklearn.metrics.accuracy_score(y_trainN, y_predTrainN)*100))\n",
    "accreviewTextTrainN=sklearn.metrics.accuracy_score(y_trainN, y_predTrainN)*100"
   ]
  },
  {
   "cell_type": "code",
   "execution_count": 47,
   "metadata": {},
   "outputs": [
    {
     "name": "stdout",
     "output_type": "stream",
     "text": [
      "Độ chính xác của tập test \"reviewText\": 78.95%\n"
     ]
    }
   ],
   "source": [
    "#Độ chính xác của tập text\n",
    "y_predTestN = clfN.predict(X_testN)\n",
    "print('Độ chính xác của tập test \"reviewText\": {:.2f}%'.format(sklearn.metrics.accuracy_score(y_testN, y_predTestN)*100))\n",
    "accreviewTextTestN=sklearn.metrics.accuracy_score(y_testN, y_predTestN)*100"
   ]
  },
  {
   "cell_type": "code",
   "execution_count": 85,
   "metadata": {},
   "outputs": [
    {
     "name": "stdout",
     "output_type": "stream",
     "text": [
      "Độ chính xác của tập test \"summary\": 78.50% alpha:  0.1\n",
      "Độ chính xác của tập test \"summary\": 76.93% alpha:  0.4\n",
      "Độ chính xác của tập test \"summary\": 76.34% alpha:  0.7\n"
     ]
    }
   ],
   "source": [
    "for i in range(1,10,3):\n",
    "    clfN1 = MultinomialNB(alpha=i/10).fit(X_trainN, y_trainN)\n",
    "    y_predTest_N1 = clfN1.predict(X_testN)\n",
    "    #print(\"acc: \",np.mean(y_predTest_Summary1 == y_testSummary),\"alpha= \", i/10) \n",
    "    print('Độ chính xác của tập test \"summary\": {:.2f}%'.format(sklearn.metrics.accuracy_score(y_testN,  y_predTest_N1)*100),\"alpha: \", i/10)"
   ]
  },
  {
   "cell_type": "markdown",
   "metadata": {},
   "source": [
    "# 3. Phân tích dữ liệu giữa summary với overall"
   ]
  },
  {
   "cell_type": "markdown",
   "metadata": {},
   "source": [
    "## a. Training và test với Naive bayes"
   ]
  },
  {
   "cell_type": "code",
   "execution_count": 51,
   "metadata": {},
   "outputs": [],
   "source": [
    "from sklearn.feature_extraction.text import CountVectorizer\n",
    "from sklearn.model_selection import train_test_split\n",
    "from sklearn.naive_bayes import MultinomialNB\n",
    "import sklearn"
   ]
  },
  {
   "cell_type": "code",
   "execution_count": 52,
   "metadata": {},
   "outputs": [],
   "source": [
    "X_trainSummary, X_testSummary, y_trainSummary, y_testSummary = train_test_split(data.summary, data.overall, test_size=0.2, random_state=100) "
   ]
  },
  {
   "cell_type": "code",
   "execution_count": 53,
   "metadata": {},
   "outputs": [],
   "source": [
    "count_vectSummary = CountVectorizer(stop_words='english')\n",
    "X_train_counts_Summary = count_vectSummary.fit_transform(X_trainSummary)"
   ]
  },
  {
   "cell_type": "code",
   "execution_count": 54,
   "metadata": {},
   "outputs": [
    {
     "name": "stdout",
     "output_type": "stream",
     "text": [
      "Độ chính xác của tập test \"reviewText\": 79.86%\n"
     ]
    }
   ],
   "source": [
    "clfSummary = MultinomialNB().fit(X_train_counts_Summary, y_trainSummary)\n",
    "X_test_counts_Summary = count_vectSummary.transform(X_testSummary)\n",
    "y_predTestSummary = clfSummary.predict(X_test_counts_Summary)\n",
    "print('Độ chính xác của tập test \"reviewText\": {:.2f}%'.format(sklearn.metrics.accuracy_score(y_testSummary, y_predTestSummary)*100))"
   ]
  },
  {
   "cell_type": "code",
   "execution_count": 55,
   "metadata": {},
   "outputs": [
    {
     "name": "stdout",
     "output_type": "stream",
     "text": [
      "Độ chính xác của tập test_negative \"reviewText\": 44.42%\n",
      "Độ chính xác của tập test_neural \"reviewText\": 19.00%\n",
      "Độ chính xác của tập test_positive \"reviewText\": 96.41%\n"
     ]
    }
   ],
   "source": [
    "#Kiểm tra độ chính xác từng lớp\n",
    "X_test_negative_Summary = count_vectSummary.transform(negative_test.summary)\n",
    "X_test_neural_Summary = count_vectSummary.transform(neural_test.summary)\n",
    "X_test_positive_Summary = count_vectSummary.transform(positive_test.summary)\n",
    "print('Độ chính xác của tập test_negative \"reviewText\": {:.2f}%'.format(sklearn.metrics.accuracy_score(negative_test.overall, clfSummary.predict(X_test_negative_Summary))*100))\n",
    "print('Độ chính xác của tập test_neural \"reviewText\": {:.2f}%'.format(sklearn.metrics.accuracy_score(neural_test.overall, clfSummary.predict(X_test_neural_Summary))*100))\n",
    "print('Độ chính xác của tập test_positive \"reviewText\": {:.2f}%'.format(sklearn.metrics.accuracy_score(positive_test.overall, clfSummary.predict(X_test_positive_Summary))*100))"
   ]
  },
  {
   "cell_type": "code",
   "execution_count": 56,
   "metadata": {},
   "outputs": [
    {
     "name": "stdout",
     "output_type": "stream",
     "text": [
      "Độ chính xác của tập test \"summary\": 79.56% alpha:  0.1\n",
      "Độ chính xác của tập test \"summary\": 79.67% alpha:  0.3\n",
      "Độ chính xác của tập test \"summary\": 79.72% alpha:  0.5\n",
      "Độ chính xác của tập test \"summary\": 79.77% alpha:  0.7\n",
      "Độ chính xác của tập test \"summary\": 79.84% alpha:  0.9\n",
      "Độ chính xác của tập test \"summary\": 79.87% alpha:  1.1\n",
      "Độ chính xác của tập test \"summary\": 79.90% alpha:  1.3\n",
      "Độ chính xác của tập test \"summary\": 79.91% alpha:  1.5\n",
      "Độ chính xác của tập test \"summary\": 79.92% alpha:  1.7\n",
      "Độ chính xác của tập test \"summary\": 79.91% alpha:  1.9\n",
      "Độ chính xác của tập test \"summary\": 79.92% alpha:  2.1\n",
      "Độ chính xác của tập test \"summary\": 79.92% alpha:  2.3\n",
      "Độ chính xác của tập test \"summary\": 79.93% alpha:  2.5\n",
      "Độ chính xác của tập test \"summary\": 79.92% alpha:  2.7\n",
      "Độ chính xác của tập test \"summary\": 79.89% alpha:  2.9\n"
     ]
    }
   ],
   "source": [
    "for i in range(1,30,2):\n",
    "    clfSummary1 = MultinomialNB(alpha=i/10).fit(X_train_counts_Summary, y_trainSummary)\n",
    "    X_test_counts_Summary1 = count_vectSummary.transform(X_testSummary)\n",
    "    y_predTest_Summary1 = clfSummary1.predict(X_test_counts_Summary1)\n",
    "    #print(\"acc: \",np.mean(y_predTest_Summary1 == y_testSummary),\"alpha= \", i/10) \n",
    "    print('Độ chính xác của tập test \"summary\": {:.2f}%'.format(sklearn.metrics.accuracy_score(y_testSummary, y_predTest_Summary1)*100),\"alpha: \", i/10)"
   ]
  },
  {
   "cell_type": "markdown",
   "metadata": {},
   "source": [
    "## b. Training và test sử dụng tfidf và Naive bayes"
   ]
  },
  {
   "cell_type": "markdown",
   "metadata": {},
   "source": [
    "###- Mã hóa dữ liệu dạng Text sang Vector (Text to vector)"
   ]
  },
  {
   "cell_type": "code",
   "execution_count": 57,
   "metadata": {},
   "outputs": [],
   "source": [
    "from sklearn.feature_extraction.text import CountVectorizer"
   ]
  },
  {
   "cell_type": "code",
   "execution_count": 58,
   "metadata": {},
   "outputs": [],
   "source": [
    "count_vectSum = CountVectorizer()"
   ]
  },
  {
   "cell_type": "code",
   "execution_count": 59,
   "metadata": {},
   "outputs": [],
   "source": [
    "X_train_countsSum = count_vectSum.fit_transform(data.summary)"
   ]
  },
  {
   "cell_type": "markdown",
   "metadata": {},
   "source": [
    "### - Chuyển Vector sang tf-idf"
   ]
  },
  {
   "cell_type": "code",
   "execution_count": 60,
   "metadata": {},
   "outputs": [],
   "source": [
    "from sklearn.feature_extraction.text import TfidfTransformer"
   ]
  },
  {
   "cell_type": "code",
   "execution_count": 61,
   "metadata": {},
   "outputs": [
    {
     "data": {
      "text/plain": [
       "(1697446, 101744)"
      ]
     },
     "execution_count": 61,
     "metadata": {},
     "output_type": "execute_result"
    }
   ],
   "source": [
    "tfidf_transformerSum = TfidfTransformer()\n",
    "X_train_tfidfSum = tfidf_transformerSum.fit_transform(X_train_countsSum)\n",
    "X_train_tfidfSum.shape"
   ]
  },
  {
   "cell_type": "markdown",
   "metadata": {},
   "source": [
    "### -Training và test (summary và overall) với phân lớp Naive Bayes"
   ]
  },
  {
   "cell_type": "code",
   "execution_count": 62,
   "metadata": {},
   "outputs": [],
   "source": [
    "from sklearn.model_selection import train_test_split\n",
    "from sklearn.naive_bayes import MultinomialNB\n",
    "import sklearn"
   ]
  },
  {
   "cell_type": "code",
   "execution_count": 63,
   "metadata": {},
   "outputs": [],
   "source": [
    "x_trainSum, x_testSum, y_trainSum, y_testSum = train_test_split(X_train_tfidfSum, data.overall, test_size = 0.20, random_state = 100)"
   ]
  },
  {
   "cell_type": "code",
   "execution_count": 64,
   "metadata": {},
   "outputs": [],
   "source": [
    "clfSum = MultinomialNB(alpha=.04).fit(x_trainSum, y_trainSum)"
   ]
  },
  {
   "cell_type": "code",
   "execution_count": 65,
   "metadata": {},
   "outputs": [
    {
     "name": "stdout",
     "output_type": "stream",
     "text": [
      "Độ chính xác của tập train \"summary\": 81.62%\n"
     ]
    }
   ],
   "source": [
    "#Độ chính xác của tập Train\n",
    "y_predTrainSum = clfSum.predict(x_trainSum)\n",
    "print('Độ chính xác của tập train \"summary\": {:.2f}%'.format(sklearn.metrics.accuracy_score(y_trainSum, y_predTrainSum)*100))\n",
    "accsummaryTrain=sklearn.metrics.accuracy_score(y_trainSum, y_predTrainSum)*100"
   ]
  },
  {
   "cell_type": "code",
   "execution_count": 66,
   "metadata": {},
   "outputs": [
    {
     "name": "stdout",
     "output_type": "stream",
     "text": [
      "Độ chính xác của tập test \"summary\": 79.69%\n"
     ]
    }
   ],
   "source": [
    "#Độ chính xác của tập text\n",
    "y_predTestSum = clfSum.predict(x_testSum)\n",
    "print('Độ chính xác của tập test \"summary\": {:.2f}%'.format(sklearn.metrics.accuracy_score(y_testSum, y_predTestSum)*100))\n",
    "accsummaryTest=sklearn.metrics.accuracy_score(y_testSum, y_predTestSum)*100"
   ]
  },
  {
   "cell_type": "markdown",
   "metadata": {},
   "source": [
    "# 4. Biến đổi dữ liệu reviewText"
   ]
  },
  {
   "cell_type": "code",
   "execution_count": null,
   "metadata": {},
   "outputs": [],
   "source": [
    "from sklearn import preprocessing"
   ]
  },
  {
   "cell_type": "code",
   "execution_count": null,
   "metadata": {},
   "outputs": [],
   "source": [
    "data['reviewLength'] = data.apply(lambda x: len(x['reviewText']), axis=1)"
   ]
  },
  {
   "cell_type": "code",
   "execution_count": null,
   "metadata": {},
   "outputs": [],
   "source": [
    "data['overalNew'] =df[['overall']]"
   ]
  },
  {
   "cell_type": "code",
   "execution_count": null,
   "metadata": {},
   "outputs": [],
   "source": [
    "data.head()"
   ]
  },
  {
   "cell_type": "code",
   "execution_count": null,
   "metadata": {},
   "outputs": [],
   "source": [
    "#Xét mối tương quan giữa các giá trị\n",
    "fig, ax = plt.subplots(figsize=(5, 5))\n",
    "corrmat = data.corr()\n",
    "sns.heatmap(corrmat, vmax=0.8, square=True)\n",
    "plt.show()\n",
    "corrmat"
   ]
  },
  {
   "cell_type": "code",
   "execution_count": null,
   "metadata": {},
   "outputs": [],
   "source": [
    "X_dieuChinh = preprocessing.Normalizer().fit_transform(data['reviewLength'])"
   ]
  }
 ],
 "metadata": {
  "kernelspec": {
   "display_name": "Python 3",
   "language": "python",
   "name": "python3"
  },
  "language_info": {
   "codemirror_mode": {
    "name": "ipython",
    "version": 3
   },
   "file_extension": ".py",
   "mimetype": "text/x-python",
   "name": "python",
   "nbconvert_exporter": "python",
   "pygments_lexer": "ipython3",
   "version": "3.6.4"
  }
 },
 "nbformat": 4,
 "nbformat_minor": 2
}
